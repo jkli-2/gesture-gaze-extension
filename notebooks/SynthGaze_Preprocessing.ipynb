{
 "cells": [
  {
   "cell_type": "code",
   "execution_count": 1,
   "id": "193f8b3f",
   "metadata": {},
   "outputs": [
    {
     "data": {
      "text/plain": [
       "'/home/ste/Documents/gesture-gaze-extension/notebooks'"
      ]
     },
     "execution_count": 1,
     "metadata": {},
     "output_type": "execute_result"
    }
   ],
   "source": [
    "%pwd"
   ]
  },
  {
   "cell_type": "code",
   "execution_count": 5,
   "id": "a8515eb8",
   "metadata": {},
   "outputs": [],
   "source": [
    "import os\n",
    "import cv2\n",
    "import json\n",
    "from tqdm import tqdm\n",
    "\n",
    "INPUT_IMG_DIR = \"/home/ste/Documents/gesture-gaze-extension/datasets/SynthGaze/lit\"\n",
    "INPUT_JSON_DIR = \"/home/ste/Documents/gesture-gaze-extension/datasets/SynthGaze/annotation\"\n",
    "OUTPUT_IMG_DIR = \"/home/ste/Documents/gesture-gaze-extension/datasets/SynthGazeProcessed/images\"\n",
    "OUTPUT_JSON_DIR = \"/home/ste/Documents/gesture-gaze-extension/datasets/SynthGazeProcessed/json\"\n",
    "\n",
    "TARGET_SIZE = 224\n",
    "ORIG_WIDTH, ORIG_HEIGHT = 640, 480"
   ]
  },
  {
   "cell_type": "code",
   "execution_count": 6,
   "id": "59bbf4d0",
   "metadata": {},
   "outputs": [
    {
     "name": "stderr",
     "output_type": "stream",
     "text": [
      "100%|██████████| 4000/4000 [00:16<00:00, 235.35it/s]"
     ]
    },
    {
     "name": "stdout",
     "output_type": "stream",
     "text": [
      "All images and annotations have been preprocessed.\n"
     ]
    },
    {
     "name": "stderr",
     "output_type": "stream",
     "text": [
      "\n"
     ]
    }
   ],
   "source": [
    "CROP_LEFT = (ORIG_WIDTH - ORIG_HEIGHT) // 2  # 80\n",
    "SCALE = TARGET_SIZE / ORIG_HEIGHT  # 224 / 480\n",
    "\n",
    "os.makedirs(OUTPUT_IMG_DIR, exist_ok=True)\n",
    "os.makedirs(OUTPUT_JSON_DIR, exist_ok=True)\n",
    "\n",
    "def preprocess_image(img):\n",
    "    cropped_img = img[:, CROP_LEFT:ORIG_WIDTH-CROP_LEFT]\n",
    "    resized_img = cv2.resize(cropped_img, (TARGET_SIZE, TARGET_SIZE))\n",
    "    return resized_img\n",
    "\n",
    "def transform_point(x, y):\n",
    "    x_cropped = max(0, x - CROP_LEFT)\n",
    "    return x_cropped * SCALE, y * SCALE\n",
    "\n",
    "def transform_json(data):\n",
    "    transformed = {\n",
    "        \"Overall\": data[\"Overall\"],\n",
    "        \"Landmarks\": {}\n",
    "    }\n",
    "    for key, (x, y) in data[\"Landmarks\"].items():\n",
    "        new_x, new_y = transform_point(x, y)\n",
    "        transformed[\"Landmarks\"][key] = [new_x, new_y]\n",
    "    return transformed\n",
    "\n",
    "def process_dataset():\n",
    "    files = sorted(f for f in os.listdir(INPUT_JSON_DIR) if f.endswith(\".json\"))\n",
    "    for fname in tqdm(files):\n",
    "        img_path = os.path.join(INPUT_IMG_DIR, fname.replace(\".json\", \".png\"))\n",
    "        json_path = os.path.join(INPUT_JSON_DIR, fname)\n",
    "        out_img_path = os.path.join(OUTPUT_IMG_DIR, fname.replace(\".json\", \".png\"))\n",
    "        out_json_path = os.path.join(OUTPUT_JSON_DIR, fname)\n",
    "\n",
    "        # Read image\n",
    "        img = cv2.imread(img_path)\n",
    "        if img is None:\n",
    "            print(f\"Skipping {img_path} (not found or invalid).\")\n",
    "            continue\n",
    "\n",
    "        # Read JSON\n",
    "        with open(json_path, 'r') as f:\n",
    "            annotation = json.load(f)\n",
    "\n",
    "        # Preprocess\n",
    "        processed_img = preprocess_image(img)\n",
    "        processed_annotation = transform_json(annotation)\n",
    "\n",
    "        # Save image and updated annotation\n",
    "        cv2.imwrite(out_img_path, processed_img)\n",
    "        with open(out_json_path, 'w') as f:\n",
    "            json.dump(processed_annotation, f, indent=2)\n",
    "\n",
    "    print(\"All images and annotations have been preprocessed.\")\n",
    "\n",
    "process_dataset()"
   ]
  }
 ],
 "metadata": {
  "kernelspec": {
   "display_name": ".venv",
   "language": "python",
   "name": "python3"
  },
  "language_info": {
   "codemirror_mode": {
    "name": "ipython",
    "version": 3
   },
   "file_extension": ".py",
   "mimetype": "text/x-python",
   "name": "python",
   "nbconvert_exporter": "python",
   "pygments_lexer": "ipython3",
   "version": "3.11.11"
  }
 },
 "nbformat": 4,
 "nbformat_minor": 5
}
