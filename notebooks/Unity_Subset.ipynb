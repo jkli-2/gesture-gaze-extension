{
  "cells": [
    {
      "cell_type": "markdown",
      "id": "cc9b1242-4d80-4fdf-9fd3-92943534c51a",
      "metadata": {
        "id": "cc9b1242-4d80-4fdf-9fd3-92943534c51a"
      },
      "source": [
        "# UnityEyes Dataset Subsetting"
      ]
    },
    {
      "cell_type": "code",
      "execution_count": 4,
      "id": "292565d7-cc2d-4467-bf21-6c0802bee8b1",
      "metadata": {
        "colab": {
          "base_uri": "https://localhost:8080/",
          "height": 260
        },
        "id": "292565d7-cc2d-4467-bf21-6c0802bee8b1",
        "outputId": "203c0e1c-b26c-41ab-9410-bb61a8621d6f"
      },
      "outputs": [],
      "source": [
        "import tensorflow as tf\n",
        "import tensorflowjs as tfjs\n",
        "from tensorflow.keras.applications import MobileNetV2\n",
        "from tensorflow.keras.layers import GlobalAveragePooling2D, Dense, Dropout\n",
        "from tensorflow.keras.models import Model\n",
        "from tensorflow.keras.preprocessing.image import ImageDataGenerator\n",
        "from tensorflow.keras.callbacks import ModelCheckpoint, EarlyStopping\n",
        "import os, shutil, random\n",
        "import numpy as np\n",
        "import pandas as pd\n",
        "\n",
        "random.seed(42028)"
      ]
    },
    {
      "cell_type": "code",
      "execution_count": 6,
      "id": "b6e2172b",
      "metadata": {},
      "outputs": [
        {
          "data": {
            "text/plain": [
              "'/home/ste/Documents/gesture-gaze-extension/notebooks'"
            ]
          },
          "execution_count": 6,
          "metadata": {},
          "output_type": "execute_result"
        }
      ],
      "source": [
        "%pwd"
      ]
    },
    {
      "cell_type": "code",
      "execution_count": 7,
      "id": "hSyUHVSnOmTS",
      "metadata": {
        "id": "hSyUHVSnOmTS"
      },
      "outputs": [],
      "source": [
        "PROJECT_DIR = \"/home/ste/Documents/gesture-gaze-extension/\"\n",
        "DATA_ROOT_DIR = os.path.join(PROJECT_DIR, \"datasets\")\n",
        "UNITY_DATA_DIR = os.path.join(DATA_ROOT_DIR, 'UnityEyes')\n",
        "UNITY_SUBSET_DIR = os.path.join(DATA_ROOT_DIR, 'UnityEyesSubset')"
      ]
    },
    {
      "cell_type": "code",
      "execution_count": 8,
      "id": "cn1w7wJxU5Zt",
      "metadata": {
        "colab": {
          "base_uri": "https://localhost:8080/"
        },
        "id": "cn1w7wJxU5Zt",
        "outputId": "e1dd80b3-0e9f-492c-830b-3af7be9454ad"
      },
      "outputs": [
        {
          "name": "stdout",
          "output_type": "stream",
          "text": [
            "\u001b[0m\u001b[01;34mcolumbia_gaze_data_set\u001b[0m/  README.md  \u001b[01;34mUnityEyes\u001b[0m/\n"
          ]
        }
      ],
      "source": [
        "%ls \"$DATA_ROOT_DIR\""
      ]
    },
    {
      "cell_type": "code",
      "execution_count": 10,
      "id": "TiXCna6gT_uk",
      "metadata": {
        "id": "TiXCna6gT_uk"
      },
      "outputs": [],
      "source": [
        "def subsample_directory(src_dir, dst_dir, sample_fraction=0.2):\n",
        "    os.makedirs(dst_dir, exist_ok=True)\n",
        "\n",
        "    for class_name in sorted(os.listdir(src_dir)):\n",
        "        src_class = os.path.join(src_dir, class_name)\n",
        "        dst_class = os.path.join(dst_dir, class_name)\n",
        "        os.makedirs(dst_class, exist_ok=True)\n",
        "\n",
        "        all_images = os.listdir(src_class)\n",
        "        sampled_images = random.sample(all_images, int(len(all_images) * sample_fraction))\n",
        "\n",
        "        for img in sampled_images:\n",
        "            shutil.copy(os.path.join(src_class, img), os.path.join(dst_class, img))\n",
        "\n",
        "# for split in ['train', 'val', 'test']:\n",
        "for split in ['test']:\n",
        "    subsample_directory(\n",
        "        src_dir=os.path.join(UNITY_DATA_DIR, split),\n",
        "        dst_dir=os.path.join(UNITY_SUBSET_DIR, split),\n",
        "        sample_fraction=0.10  # 10% subset\n",
        "    )"
      ]
    }
  ],
  "metadata": {
    "accelerator": "GPU",
    "colab": {
      "gpuType": "A100",
      "machine_shape": "hm",
      "provenance": []
    },
    "kernelspec": {
      "display_name": ".venv",
      "language": "python",
      "name": "python3"
    },
    "language_info": {
      "codemirror_mode": {
        "name": "ipython",
        "version": 3
      },
      "file_extension": ".py",
      "mimetype": "text/x-python",
      "name": "python",
      "nbconvert_exporter": "python",
      "pygments_lexer": "ipython3",
      "version": "3.11.11"
    }
  },
  "nbformat": 4,
  "nbformat_minor": 5
}
